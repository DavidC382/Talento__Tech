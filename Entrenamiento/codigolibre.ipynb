{
 "cells": [
  {
   "cell_type": "markdown",
   "metadata": {},
   "source": [
    "Juego Del Gato con Pandas"
   ]
  },
  {
   "cell_type": "code",
   "execution_count": 6,
   "metadata": {},
   "outputs": [],
   "source": [
    "import pandas as pd\n",
    "\n",
    "# Inicializar el tablero como un DataFrame de pandas\n",
    "def crear_tablero():\n",
    "    return pd.DataFrame([[\" \"]*3 for _ in range(3)], columns=[\"A\", \"B\", \"C\"], index=[1,2,3])\n",
    "\n",
    "def mostrar_tablero(tablero):\n",
    "    print(tablero)\n"
   ]
  },
  {
   "cell_type": "code",
   "execution_count": 7,
   "metadata": {},
   "outputs": [],
   "source": [
    "def verificar_ganador(tablero, jugador):\n",
    "    # Revisar filas y columnas\n",
    "    for i in range(2):\n",
    "        if all(tablero.iloc[i, :] == jugador):\n",
    "            return True\n",
    "        if all(tablero.iloc[:, i] == jugador):\n",
    "            return True\n",
    "    # Revisar diagonales\n",
    "    if all([tablero.iloc[i, i] == jugador for i in range(3)]):\n",
    "        return True\n",
    "    if all([tablero.iloc[i, 1-i] == jugador for i in range(3)]):\n",
    "        return True\n",
    "    return False\n"
   ]
  },
  {
   "cell_type": "code",
   "execution_count": 8,
   "metadata": {},
   "outputs": [],
   "source": [
    "def tablero_lleno(tablero):\n",
    "    return not (tablero == \" \").any().any()\n",
    "\n",
    "def jugar_gato():\n",
    "    tablero = crear_tablero()\n",
    "    jugador = \"X\"\n",
    "    while True:\n",
    "        mostrar_tablero(tablero)\n",
    "        print(f\"Turno del jugador {jugador}\")\n",
    "        try:\n",
    "            fila = int(input(\"Elige fila (1-3): \"))\n",
    "            columna = input(\"Elige columna (A-C): \").upper()\n",
    "            if fila not in [1,2,3] or columna not in [\"A\",\"B\",\"C\"]:\n",
    "                print(\"Entrada inválida. Intenta de nuevo.\")\n",
    "                continue\n",
    "            if tablero.loc[fila, columna] != \" \":\n",
    "                print(\"Esa casilla ya está ocupada. Intenta de nuevo.\")\n",
    "                continue\n",
    "            tablero.loc[fila, columna] = jugador\n",
    "            if verificar_ganador(tablero, jugador):\n",
    "                mostrar_tablero(tablero)\n",
    "                print(f\"¡Felicidades! El jugador {jugador} ha ganado.\")\n",
    "                break\n",
    "            if tablero_lleno(tablero):\n",
    "                mostrar_tablero(tablero)\n",
    "                print(\"¡Empate!\")\n",
    "                break\n",
    "            jugador = \"O\" if jugador == \"X\" else \"X\"\n",
    "        except Exception as e:\n",
    "            print(\"Error:\", e)\n",
    "            print(\"Entrada inválida. Intenta de nuevo.\")"
   ]
  },
  {
   "cell_type": "code",
   "execution_count": 9,
   "metadata": {},
   "outputs": [
    {
     "name": "stdout",
     "output_type": "stream",
     "text": [
      "   A  B  C\n",
      "1         \n",
      "2         \n",
      "3         \n",
      "Turno del jugador X\n",
      "   A  B  C\n",
      "1  X      \n",
      "2         \n",
      "3         \n",
      "Turno del jugador O\n",
      "   A  B  C\n",
      "1  X  O   \n",
      "2         \n",
      "3         \n",
      "Turno del jugador X\n",
      "   A  B  C\n",
      "1  X  O   \n",
      "2     X   \n",
      "3         \n",
      "Turno del jugador O\n",
      "   A  B  C\n",
      "1  X  O  O\n",
      "2     X   \n",
      "3         \n",
      "Turno del jugador X\n",
      "   A  B  C\n",
      "1  X  O  O\n",
      "2     X   \n",
      "3        X\n",
      "¡Felicidades! El jugador X ha ganado.\n"
     ]
    }
   ],
   "source": [
    "jugar_gato()"
   ]
  }
 ],
 "metadata": {
  "kernelspec": {
   "display_name": "clasVenv",
   "language": "python",
   "name": "python3"
  },
  "language_info": {
   "codemirror_mode": {
    "name": "ipython",
    "version": 3
   },
   "file_extension": ".py",
   "mimetype": "text/x-python",
   "name": "python",
   "nbconvert_exporter": "python",
   "pygments_lexer": "ipython3",
   "version": "3.13.3"
  }
 },
 "nbformat": 4,
 "nbformat_minor": 2
}
