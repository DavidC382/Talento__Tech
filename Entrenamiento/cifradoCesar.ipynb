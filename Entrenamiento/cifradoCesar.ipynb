{
 "cells": [
  {
   "cell_type": "code",
   "execution_count": 8,
   "metadata": {},
   "outputs": [],
   "source": [
    "import pandas as pd"
   ]
  },
  {
   "cell_type": "code",
   "execution_count": 9,
   "metadata": {},
   "outputs": [],
   "source": [
    "def cifrado_cesar(texto, desplazamiento):\n",
    "    # Convertimos el texto en una Serie de pandas\n",
    "    s = pd.Series(list(texto))\n",
    "    \n",
    "    def cifrar_letra(char):\n",
    "        if char.isalpha():\n",
    "            base = ord('A') if char.isupper() else ord('a')\n",
    "            return chr((ord(char) - base + desplazamiento) % 26 + base)\n",
    "        else:\n",
    "            return char\n",
    "    \n",
    "    # Aplicamos la función a cada elemento de la Serie\n",
    "    resultado = s.apply(cifrar_letra)\n",
    "    # Unimos el resultado en un solo string\n",
    "    return ''.join(resultado)"
   ]
  },
  {
   "cell_type": "code",
   "execution_count": 10,
   "metadata": {},
   "outputs": [
    {
     "name": "stdout",
     "output_type": "stream",
     "text": [
      "Entrada: 'Hola Mundo' | Desplazamiento: 3 => Cifrado: 'Krod Pxqgr'\n",
      "Entrada: 'Python' | Desplazamiento: 5 => Cifrado: 'Udymts'\n",
      "Entrada: 'Cifrado Cesar' | Desplazamiento: 1 => Cifrado: 'Djgsbep Dftbs'\n",
      "Entrada: 'Abc XYZ' | Desplazamiento: 2 => Cifrado: 'Cde ZAB'\n",
      "Entrada: 'Prueba123!' | Desplazamiento: 4 => Cifrado: 'Tvyife123!'\n"
     ]
    }
   ],
   "source": [
    "# Creamos un array con distintos casos de prueba para la función cifrado_cesar\n",
    "casos_prueba = [\n",
    "    (\"Hola Mundo\", 3),\n",
    "    (\"Python\", 5),\n",
    "    (\"Cifrado Cesar\", 1),\n",
    "    (\"Abc XYZ\", 2),\n",
    "    (\"Prueba\", 4)\n",
    "]\n",
    "\n",
    "# Llamamos a la función para cada caso y guardamos los resultados en una lista\n",
    "resultados = [cifrado_cesar(texto, desplazamiento) for texto, desplazamiento in casos_prueba]\n",
    "\n",
    "# Mostramos los resultados\n",
    "for i, (entrada, desplazamiento) in enumerate(casos_prueba):\n",
    "    print(f\"Entrada: '{entrada}' | Desplazamiento: {desplazamiento} => Cifrado: '{resultados[i]}'\")\n"
   ]
  },
  {
   "cell_type": "code",
   "execution_count": 11,
   "metadata": {},
   "outputs": [],
   "source": [
    "def descifrado_cesar(texto_cifrado, desplazamiento):\n",
    "    # Convertimos el texto cifrado en una Serie de pandas\n",
    "    s = pd.Series(list(texto_cifrado))\n",
    "    \n",
    "    def descifrar_letra(char):\n",
    "        if char.isalpha():\n",
    "            base = ord('A') if char.isupper() else ord('a')\n",
    "            return chr((ord(char) - base - desplazamiento) % 26 + base)\n",
    "        else:\n",
    "            return char\n",
    "    \n",
    "    # Aplicamos la función a cada elemento de la Serie\n",
    "    resultado = s.apply(descifrar_letra)\n",
    "    # Unimos el resultado en un solo string\n",
    "    return ''.join(resultado)\n"
   ]
  },
  {
   "cell_type": "code",
   "execution_count": 19,
   "metadata": {},
   "outputs": [
    {
     "name": "stdout",
     "output_type": "stream",
     "text": [
      "Entrada cifrada: 'Krod Pxqgr' | Desplazamiento: 3 => Descifrado: 'Hola Mundo'\n",
      "Entrada cifrada: 'Udymts' | Desplazamiento: 5 => Descifrado: 'Python'\n",
      "Entrada cifrada: 'Djgsbep Dftbs' | Desplazamiento: 1 => Descifrado: 'Cifrado Cesar'\n",
      "Entrada cifrada: 'Cde ZAB' | Desplazamiento: 2 => Descifrado: 'Abc XYZ'\n",
      "Entrada cifrada: 'Tvyife' | Desplazamiento: 4 => Descifrado: 'Prueba'\n"
     ]
    }
   ],
   "source": [
    "\n",
    "casos_prueba_descifrado = [\n",
    "    (\"Krod Pxqgr\", 3),\n",
    "    (\"Udymts\", 5),\n",
    "    (\"Djgsbep Dftbs\", 1),\n",
    "    (\"Cde ZAB\", 2),\n",
    "    (\"Tvyife\", 4)\n",
    "]\n",
    "\n",
    "\n",
    "resultados_descifrado = [descifrado_cesar(texto_cifrado, desplazamiento) for texto_cifrado, desplazamiento in casos_prueba_descifrado]\n",
    "\n",
    "\n",
    "for i, (entrada, desplazamiento) in enumerate(casos_prueba_descifrado):\n",
    "    print(f\"Entrada cifrada: '{entrada}' | Desplazamiento: {desplazamiento} => Descifrado: '{resultados_descifrado[i]}'\")\n"
   ]
  },
  {
   "cell_type": "code",
   "execution_count": 16,
   "metadata": {},
   "outputs": [],
   "source": [
    "def descifrar_sin_desplazamiento(texto_cifrado):\n",
    "    resultados = []\n",
    "    for desplazamiento in range(1, 26):\n",
    "        descifrado = descifrado_cesar(texto_cifrado, desplazamiento)\n",
    "        resultados.append({'desplazamiento': desplazamiento, 'descifrado': descifrado})\n",
    "    df_resultados = pd.DataFrame(resultados)\n",
    "    return df_resultados"
   ]
  },
  {
   "cell_type": "code",
   "execution_count": 20,
   "metadata": {},
   "outputs": [
    {
     "name": "stdout",
     "output_type": "stream",
     "text": [
      "Desplazamiento encontrado: 3, Frase: 'Hola Mundo'\n",
      "No se encontró coincidencia para: 'Udymts'\n",
      "Desplazamiento encontrado: 1, Frase: 'Cifrado Cesar'\n",
      "No se encontró coincidencia para: 'Cde ZAB'\n",
      "Desplazamiento encontrado: 4, Frase: 'Prueba'\n"
     ]
    }
   ],
   "source": [
    "textos_cifrados = [\n",
    "    \"Krod Pxqgr\",\n",
    "    \"Udymts\",\n",
    "    \"Djgsbep Dftbs\",\n",
    "    \"Cde ZAB\",\n",
    "    \"Tvyife\"\n",
    "]\n",
    "\n",
    "# Cargar las palabras del archivo palabras.txt en un conjunto para búsqueda rápida\n",
    "with open(\"palabras.txt\", encoding=\"utf-8\") as f:\n",
    "    palabras_validas = set(linea.strip().lower() for linea in f if linea.strip())\n",
    "\n",
    "for texto in textos_cifrados:\n",
    "    df = descifrar_sin_desplazamiento(texto)\n",
    "    encontrado = False\n",
    "    for _, fila in df.iterrows():\n",
    "        # Separamos la frase descifrada en palabras y verificamos si todas están en el diccionario\n",
    "        palabras = [palabra.strip(\".,!¡¿?;:\").lower() for palabra in fila['descifrado'].split()]\n",
    "        if all(palabra in palabras_validas for palabra in palabras):\n",
    "            print(f\"Desplazamiento encontrado: {fila['desplazamiento']}, Frase: '{fila['descifrado']}'\")\n",
    "            encontrado = True\n",
    "            break\n",
    "    if not encontrado:\n",
    "        print(f\"No se encontró coincidencia para: '{texto}'\")"
   ]
  }
 ],
 "metadata": {
  "kernelspec": {
   "display_name": "clasVenv",
   "language": "python",
   "name": "python3"
  },
  "language_info": {
   "codemirror_mode": {
    "name": "ipython",
    "version": 3
   },
   "file_extension": ".py",
   "mimetype": "text/x-python",
   "name": "python",
   "nbconvert_exporter": "python",
   "pygments_lexer": "ipython3",
   "version": "3.13.3"
  }
 },
 "nbformat": 4,
 "nbformat_minor": 4
}
