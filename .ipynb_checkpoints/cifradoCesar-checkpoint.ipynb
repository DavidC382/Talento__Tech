{
 "cells": [
  {
   "cell_type": "code",
   "execution_count": 3,
   "metadata": {},
   "outputs": [
    {
     "ename": "ModuleNotFoundError",
     "evalue": "No module named 'pandas'",
     "output_type": "error",
     "traceback": [
      "\u001b[31m---------------------------------------------------------------------------\u001b[39m",
      "\u001b[31mModuleNotFoundError\u001b[39m                       Traceback (most recent call last)",
      "\u001b[36mCell\u001b[39m\u001b[36m \u001b[39m\u001b[32mIn[3]\u001b[39m\u001b[32m, line 1\u001b[39m\n\u001b[32m----> \u001b[39m\u001b[32m1\u001b[39m \u001b[38;5;28;01mimport\u001b[39;00m\u001b[38;5;250m \u001b[39m\u001b[34;01mpandas\u001b[39;00m\u001b[38;5;250m \u001b[39m\u001b[38;5;28;01mas\u001b[39;00m\u001b[38;5;250m \u001b[39m\u001b[34;01mpd\u001b[39;00m\n",
      "\u001b[31mModuleNotFoundError\u001b[39m: No module named 'pandas'"
     ]
    }
   ],
   "source": [
    "import pandas as pd"
   ]
  },
  {
   "cell_type": "code",
   "execution_count": null,
   "metadata": {},
   "outputs": [],
   "source": [
    "def cifrado_cesar(texto, desplazamiento):\n",
    "    # Convertimos el texto en una Serie de pandas\n",
    "    s = pd.Series(list(texto))\n",
    "    \n",
    "    def cifrar_letra(char):\n",
    "        if char.isalpha():\n",
    "            base = ord('A') if char.isupper() else ord('a')\n",
    "            return chr((ord(char) - base + desplazamiento) % 26 + base)\n",
    "        else:\n",
    "            return char\n",
    "    \n",
    "    # Aplicamos la función a cada elemento de la Serie\n",
    "    resultado = s.apply(cifrar_letra)\n",
    "    # Unimos el resultado en un solo string\n",
    "    return ''.join(resultado)"
   ]
  },
  {
   "cell_type": "code",
   "execution_count": null,
   "metadata": {},
   "outputs": [],
   "source": [
    "# Creamos un array con distintos casos de prueba para la función cifrado_cesar\n",
    "casos_prueba = [\n",
    "    (\"Hola Mundo\", 3),\n",
    "    (\"Python\", 5),\n",
    "    (\"Cifrado Cesar\", 1),\n",
    "    (\"Abc XYZ\", 2),\n",
    "    (\"Prueba123!\", 4)\n",
    "]\n",
    "\n",
    "# Llamamos a la función para cada caso y guardamos los resultados en una lista\n",
    "resultados = [cifrado_cesar(texto, desplazamiento) for texto, desplazamiento in casos_prueba]\n",
    "\n",
    "# Mostramos los resultados\n",
    "for i, (entrada, desplazamiento) in enumerate(casos_prueba):\n",
    "    print(f\"Entrada: '{entrada}' | Desplazamiento: {desplazamiento} => Cifrado: '{resultados[i]}'\")\n"
   ]
  },
  {
   "cell_type": "code",
   "execution_count": null,
   "metadata": {},
   "outputs": [],
   "source": [
    "def descifrado_cesar(texto_cifrado, desplazamiento):\n",
    "    # Convertimos el texto cifrado en una Serie de pandas\n",
    "    s = pd.Series(list(texto_cifrado))\n",
    "    \n",
    "    def descifrar_letra(char):\n",
    "        if char.isalpha():\n",
    "            base = ord('A') if char.isupper() else ord('a')\n",
    "            return chr((ord(char) - base - desplazamiento) % 26 + base)\n",
    "        else:\n",
    "            return char\n",
    "    \n",
    "    # Aplicamos la función a cada elemento de la Serie\n",
    "    resultado = s.apply(descifrar_letra)\n",
    "    # Unimos el resultado en un solo string\n",
    "    return ''.join(resultado)\n"
   ]
  },
  {
   "cell_type": "code",
   "execution_count": null,
   "metadata": {},
   "outputs": [],
   "source": [
    "\n",
    "casos_prueba_descifrado = [\n",
    "    (\"Krod Pxqgr\", 3),\n",
    "    (\"Udymts\", 5),\n",
    "    (\"Djgsbep Dftbs\", 1),\n",
    "    (\"Cde ZAB\", 2),\n",
    "    (\"Vtyifd123!\", 4)\n",
    "]\n",
    "\n",
    "\n",
    "resultados_descifrado = [descifrado_cesar(texto_cifrado, desplazamiento) for texto_cifrado, desplazamiento in casos_prueba_descifrado]\n",
    "\n",
    "\n",
    "for i, (entrada, desplazamiento) in enumerate(casos_prueba_descifrado):\n",
    "    print(f\"Entrada cifrada: '{entrada}' | Desplazamiento: {desplazamiento} => Descifrado: '{resultados_descifrado[i]}'\")\n"
   ]
  }
 ],
 "metadata": {
  "kernelspec": {
   "display_name": "clasVenv",
   "language": "python",
   "name": "python3"
  },
  "language_info": {
   "codemirror_mode": {
    "name": "ipython",
    "version": 3
   },
   "file_extension": ".py",
   "mimetype": "text/x-python",
   "name": "python",
   "nbconvert_exporter": "python",
   "pygments_lexer": "ipython3",
   "version": "3.13.3"
  }
 },
 "nbformat": 4,
 "nbformat_minor": 2
}
