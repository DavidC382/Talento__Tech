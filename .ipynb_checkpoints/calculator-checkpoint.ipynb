{
 "cells": [
  {
   "cell_type": "code",
   "execution_count": 1,
   "id": "d9f9962d-8aa6-4dfd-8d9a-469d837f390c",
   "metadata": {
    "editable": true,
    "slideshow": {
     "slide_type": ""
    },
    "tags": []
   },
   "outputs": [],
   "source": [
    "import math"
   ]
  },
  {
   "cell_type": "code",
   "execution_count": 2,
   "id": "469ef234-18e2-4309-aae7-fd754064145e",
   "metadata": {},
   "outputs": [],
   "source": [
    "def suma(a, b): return a + b\n",
    "\n",
    "def resta(a, b): return a - b\n",
    "\n",
    "def multiplicacion(a, b): return a * b\n",
    "\n",
    "def division(a, b):\n",
    "    if b == 0:\n",
    "        raise ValueError(\"No se puede dividir entre cero.\")\n",
    "    return a / b\n",
    "\n",
    "def potencia(a, b): return math.pow(a, b)\n",
    "\n",
    "def raiz_cuadrada(a):\n",
    "    if a < 0:\n",
    "        raise ValueError(\"No se puede calcular la raíz cuadrada de un número negativo.\")\n",
    "    return math.sqrt(a)\n",
    "\n",
    "def logaritmo(a):\n",
    "    if a <= 0:\n",
    "        raise ValueError(\"El logaritmo solo se puede calcular para números positivos.\")\n",
    "    return math.log(a)\n",
    "\n",
    "def factorial(n):\n",
    "    if n < 0:\n",
    "        raise ValueError(\"El factorial no está definido para números negativos.\")\n",
    "    return math.factorial(n)\n",
    "\n",
    "def funcion_trigonometrica(nombre, angulo):\n",
    "    funciones = {\n",
    "        \"seno\": math.sin,\n",
    "        \"coseno\": math.cos,\n",
    "        \"tan\": math.tan,\n",
    "        \"tangente\": math.tan\n",
    "    }\n",
    "    func = funciones.get(nombre.lower())\n",
    "    if func:\n",
    "        return func(angulo)\n",
    "    else:\n",
    "        raise ValueError(\"Función trigonométrica no reconocida.\")\n"
   ]
  },
  {
   "cell_type": "code",
   "execution_count": 3,
   "id": "9c24c69c-958a-43a5-bc52-1e3785f69b13",
   "metadata": {},
   "outputs": [],
   "source": [
    "def mostrar_menu():\n",
    "    print(\"\\n--- CALCULADORA CIENTÍFICA ---\")\n",
    "    print(\"1. Suma\")\n",
    "    print(\"2. Resta\")\n",
    "    print(\"3. Multiplicación\")\n",
    "    print(\"4. División\")\n",
    "    print(\"5. Potencia\")\n",
    "    print(\"6. Raíz cuadrada\")\n",
    "    print(\"7. Logaritmo natural\")\n",
    "    print(\"8. Factorial\")\n",
    "    print(\"9. Funciones trigonométricas (seno, coseno, tangente)\")\n",
    "    print(\"0. Salir\")\n",
    "\n",
    "def solicitar_numero(mensaje=\"Ingrese un número: \"):\n",
    "    while True:\n",
    "        try:\n",
    "            return float(input(mensaje))\n",
    "        except ValueError:\n",
    "            print(\"Entrada inválida. Intente de nuevo.\")\n",
    "\n",
    "def solicitar_entero(mensaje=\"Ingrese un número entero: \"):\n",
    "    while True:\n",
    "        try:\n",
    "            valor = int(input(mensaje))\n",
    "            return valor\n",
    "        except ValueError:\n",
    "            print(\"Entrada inválida. Intente de nuevo.\")\n"
   ]
  },
  {
   "cell_type": "code",
   "execution_count": 4,
   "id": "37e464b4-ad8d-4488-a5a7-3a8524a2a525",
   "metadata": {},
   "outputs": [],
   "source": [
    "def ejecutar_operacion(opcion):\n",
    "    try:\n",
    "        match opcion:\n",
    "            case \"1\":\n",
    "                a, b = solicitar_numero(\"Primer número: \"), solicitar_numero(\"Segundo número: \")\n",
    "                print(\"Resultado:\", suma(a, b))\n",
    "            case \"2\":\n",
    "                a, b = solicitar_numero(\"Primer número: \"), solicitar_numero(\"Segundo número: \")\n",
    "                print(\"Resultado:\", resta(a, b))\n",
    "            case \"3\":\n",
    "                a, b = solicitar_numero(\"Primer número: \"), solicitar_numero(\"Segundo número: \")\n",
    "                print(\"Resultado:\", multiplicacion(a, b))\n",
    "            case \"4\":\n",
    "                a, b = solicitar_numero(\"Dividendo: \"), solicitar_numero(\"Divisor: \")\n",
    "                print(\"Resultado:\", division(a, b))\n",
    "            case \"5\":\n",
    "                a, b = solicitar_numero(\"Base: \"), solicitar_numero(\"Exponente: \")\n",
    "                print(\"Resultado:\", potencia(a, b))\n",
    "            case \"6\":\n",
    "                a = solicitar_numero(\"Número: \")\n",
    "                print(\"Resultado:\", raiz_cuadrada(a))\n",
    "            case \"7\":\n",
    "                a = solicitar_numero(\"Número: \")\n",
    "                print(\"Resultado:\", logaritmo(a))\n",
    "            case \"8\":\n",
    "                n = solicitar_entero(\"Número entero: \")\n",
    "                print(\"Resultado:\", factorial(n))\n",
    "            case \"9\":\n",
    "                funcion = input(\"Ingrese la función (seno, coseno, tangente): \").strip().lower()\n",
    "                angulo = solicitar_numero(\"Ingrese el ángulo en radianes: \")\n",
    "                print(\"Resultado:\", funcion_trigonometrica(funcion, angulo))\n",
    "            case \"0\":\n",
    "                print(\"Gracias por usar la calculadora. ¡Hasta luego!\")\n",
    "                return False\n",
    "            case _:\n",
    "                print(\"Opción no válida.\")\n",
    "        return True\n",
    "    except ValueError as e:\n",
    "        print(f\"Error: {e}\")\n",
    "        return True\n"
   ]
  },
  {
   "cell_type": "code",
   "execution_count": null,
   "id": "a08c367b-e1fc-45c6-a6b5-d04a775a4e57",
   "metadata": {},
   "outputs": [
    {
     "name": "stdout",
     "output_type": "stream",
     "text": [
      "\n",
      "--- CALCULADORA CIENTÍFICA ---\n",
      "1. Suma\n",
      "2. Resta\n",
      "3. Multiplicación\n",
      "4. División\n",
      "5. Potencia\n",
      "6. Raíz cuadrada\n",
      "7. Logaritmo natural\n",
      "8. Factorial\n",
      "9. Funciones trigonométricas (seno, coseno, tangente)\n",
      "0. Salir\n"
     ]
    },
    {
     "name": "stdin",
     "output_type": "stream",
     "text": [
      "Seleccione una opción:  1\n",
      "Primer número:  2\n",
      "Segundo número:  1\n"
     ]
    },
    {
     "name": "stdout",
     "output_type": "stream",
     "text": [
      "Resultado: 3.0\n",
      "\n",
      "--- CALCULADORA CIENTÍFICA ---\n",
      "1. Suma\n",
      "2. Resta\n",
      "3. Multiplicación\n",
      "4. División\n",
      "5. Potencia\n",
      "6. Raíz cuadrada\n",
      "7. Logaritmo natural\n",
      "8. Factorial\n",
      "9. Funciones trigonométricas (seno, coseno, tangente)\n",
      "0. Salir\n"
     ]
    },
    {
     "name": "stdin",
     "output_type": "stream",
     "text": [
      "Seleccione una opción:  2\n",
      "Primer número:  1\n",
      "Segundo número:  2\n"
     ]
    },
    {
     "name": "stdout",
     "output_type": "stream",
     "text": [
      "Resultado: -1.0\n",
      "\n",
      "--- CALCULADORA CIENTÍFICA ---\n",
      "1. Suma\n",
      "2. Resta\n",
      "3. Multiplicación\n",
      "4. División\n",
      "5. Potencia\n",
      "6. Raíz cuadrada\n",
      "7. Logaritmo natural\n",
      "8. Factorial\n",
      "9. Funciones trigonométricas (seno, coseno, tangente)\n",
      "0. Salir\n"
     ]
    },
    {
     "name": "stdin",
     "output_type": "stream",
     "text": [
      "Seleccione una opción:  3\n",
      "Primer número:  2\n",
      "Segundo número:  4\n"
     ]
    },
    {
     "name": "stdout",
     "output_type": "stream",
     "text": [
      "Resultado: 8.0\n",
      "\n",
      "--- CALCULADORA CIENTÍFICA ---\n",
      "1. Suma\n",
      "2. Resta\n",
      "3. Multiplicación\n",
      "4. División\n",
      "5. Potencia\n",
      "6. Raíz cuadrada\n",
      "7. Logaritmo natural\n",
      "8. Factorial\n",
      "9. Funciones trigonométricas (seno, coseno, tangente)\n",
      "0. Salir\n"
     ]
    },
    {
     "name": "stdin",
     "output_type": "stream",
     "text": [
      "Seleccione una opción:  4\n",
      "Dividendo:  50\n",
      "Divisor:  5\n"
     ]
    },
    {
     "name": "stdout",
     "output_type": "stream",
     "text": [
      "Resultado: 10.0\n",
      "\n",
      "--- CALCULADORA CIENTÍFICA ---\n",
      "1. Suma\n",
      "2. Resta\n",
      "3. Multiplicación\n",
      "4. División\n",
      "5. Potencia\n",
      "6. Raíz cuadrada\n",
      "7. Logaritmo natural\n",
      "8. Factorial\n",
      "9. Funciones trigonométricas (seno, coseno, tangente)\n",
      "0. Salir\n"
     ]
    },
    {
     "name": "stdin",
     "output_type": "stream",
     "text": [
      "Seleccione una opción:  5\n",
      "Base:  2\n",
      "Exponente:  8\n"
     ]
    },
    {
     "name": "stdout",
     "output_type": "stream",
     "text": [
      "Resultado: 256.0\n",
      "\n",
      "--- CALCULADORA CIENTÍFICA ---\n",
      "1. Suma\n",
      "2. Resta\n",
      "3. Multiplicación\n",
      "4. División\n",
      "5. Potencia\n",
      "6. Raíz cuadrada\n",
      "7. Logaritmo natural\n",
      "8. Factorial\n",
      "9. Funciones trigonométricas (seno, coseno, tangente)\n",
      "0. Salir\n"
     ]
    },
    {
     "name": "stdin",
     "output_type": "stream",
     "text": [
      "Seleccione una opción:  6\n",
      "Número:  3215\n"
     ]
    },
    {
     "name": "stdout",
     "output_type": "stream",
     "text": [
      "Resultado: 56.70097000933934\n",
      "\n",
      "--- CALCULADORA CIENTÍFICA ---\n",
      "1. Suma\n",
      "2. Resta\n",
      "3. Multiplicación\n",
      "4. División\n",
      "5. Potencia\n",
      "6. Raíz cuadrada\n",
      "7. Logaritmo natural\n",
      "8. Factorial\n",
      "9. Funciones trigonométricas (seno, coseno, tangente)\n",
      "0. Salir\n"
     ]
    },
    {
     "name": "stdin",
     "output_type": "stream",
     "text": [
      "Seleccione una opción:  7\n",
      "Número:  10\n"
     ]
    },
    {
     "name": "stdout",
     "output_type": "stream",
     "text": [
      "Resultado: 2.302585092994046\n",
      "\n",
      "--- CALCULADORA CIENTÍFICA ---\n",
      "1. Suma\n",
      "2. Resta\n",
      "3. Multiplicación\n",
      "4. División\n",
      "5. Potencia\n",
      "6. Raíz cuadrada\n",
      "7. Logaritmo natural\n",
      "8. Factorial\n",
      "9. Funciones trigonométricas (seno, coseno, tangente)\n",
      "0. Salir\n"
     ]
    },
    {
     "name": "stdin",
     "output_type": "stream",
     "text": [
      "Seleccione una opción:  8\n",
      "Número entero:  45\n"
     ]
    },
    {
     "name": "stdout",
     "output_type": "stream",
     "text": [
      "Resultado: 119622220865480194561963161495657715064383733760000000000\n",
      "\n",
      "--- CALCULADORA CIENTÍFICA ---\n",
      "1. Suma\n",
      "2. Resta\n",
      "3. Multiplicación\n",
      "4. División\n",
      "5. Potencia\n",
      "6. Raíz cuadrada\n",
      "7. Logaritmo natural\n",
      "8. Factorial\n",
      "9. Funciones trigonométricas (seno, coseno, tangente)\n",
      "0. Salir\n"
     ]
    },
    {
     "name": "stdin",
     "output_type": "stream",
     "text": [
      "Seleccione una opción:  9\n",
      "Ingrese la función (seno, coseno, tangente):  seno\n",
      "Ingrese el ángulo en radianes:  90\n"
     ]
    },
    {
     "name": "stdout",
     "output_type": "stream",
     "text": [
      "Resultado: 0.8939966636005579\n",
      "\n",
      "--- CALCULADORA CIENTÍFICA ---\n",
      "1. Suma\n",
      "2. Resta\n",
      "3. Multiplicación\n",
      "4. División\n",
      "5. Potencia\n",
      "6. Raíz cuadrada\n",
      "7. Logaritmo natural\n",
      "8. Factorial\n",
      "9. Funciones trigonométricas (seno, coseno, tangente)\n",
      "0. Salir\n"
     ]
    }
   ],
   "source": [
    "opcion = 1\n",
    "while opcion != 0:\n",
    "    mostrar_menu()\n",
    "    opcion = input(\"Seleccione una opción: \")\n",
    "    continuar = ejecutar_operacion(opcion)\n"
   ]
  }
 ],
 "metadata": {
  "kernelspec": {
   "display_name": "Python 3 (ipykernel)",
   "language": "python",
   "name": "python3"
  },
  "language_info": {
   "codemirror_mode": {
    "name": "ipython",
    "version": 3
   },
   "file_extension": ".py",
   "mimetype": "text/x-python",
   "name": "python",
   "nbconvert_exporter": "python",
   "pygments_lexer": "ipython3",
   "version": "3.13.3"
  }
 },
 "nbformat": 4,
 "nbformat_minor": 5
}
